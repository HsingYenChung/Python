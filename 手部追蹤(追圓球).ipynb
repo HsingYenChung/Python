{
 "cells": [
  {
   "cell_type": "code",
   "execution_count": null,
   "id": "69019094",
   "metadata": {},
   "outputs": [],
   "source": [
    "import cv2\n",
    "import mediapipe as mp\n",
    "import time\n",
    "import random\n",
    "\n",
    "cap = cv2.VideoCapture(0)\n",
    "mpHands = mp.solutions.hands\n",
    "hands = mpHands.Hands(min_detection_confidence=0.5, min_tracking_confidence=0.5)\n",
    "mpDraw = mp.solutions.drawing_utils\n",
    "handLmsStyle = mpDraw.DrawingSpec(color=(0, 0, 255), thickness=3)\n",
    "handConStyle = mpDraw.DrawingSpec(color=(0, 255, 0), thickness=5)\n",
    "pTime = 0\n",
    "cTime = 0\n",
    "\n",
    "# Set up game variables\n",
    "disc_radius = 30\n",
    "disc_x = random.randint(disc_radius, 640 - disc_radius)\n",
    "disc_y = 480 - disc_radius\n",
    "score = 0\n",
    "\n",
    "while True:\n",
    "    ret, img = cap.read()\n",
    "    if ret:\n",
    "        imgRGB = cv2.cvtColor(img, cv2.COLOR_BGR2RGB)\n",
    "        result = hands.process(imgRGB)\n",
    "\n",
    "        imgHeight = img.shape[0]\n",
    "        imgWidth = img.shape[1]\n",
    "\n",
    "        if result.multi_hand_landmarks:\n",
    "            for handLms in result.multi_hand_landmarks:\n",
    "                for i, lm in enumerate(handLms.landmark):\n",
    "                    xPos = int(lm.x * imgWidth)\n",
    "                    yPos = int(lm.y * imgHeight)\n",
    "\n",
    "                    # Check if hand is below the disc\n",
    "                    if abs(xPos - disc_x) < disc_radius and yPos > disc_y - disc_radius:\n",
    "                        # Update disc position\n",
    "                        disc_x = random.randint(disc_radius, 640 - disc_radius)\n",
    "                        disc_y = 480 - disc_radius\n",
    "                        score += 1\n",
    "\n",
    "        # Draw the disc\n",
    "        cv2.circle(img, (disc_x, disc_y), disc_radius, (255, 0, 0), cv2.FILLED)\n",
    "\n",
    "        # Display game info\n",
    "        cv2.putText(img, f\"Score: {score}\", (30, 50), cv2.FONT_HERSHEY_SIMPLEX, 1, (255, 0, 0), 3)\n",
    "\n",
    "        cTime = time.time()\n",
    "        fps = 1 / (cTime - pTime)\n",
    "        pTime = cTime\n",
    "        cv2.putText(img, f\"FPS : {int(fps)}\", (30, 100), cv2.FONT_HERSHEY_SIMPLEX, 1, (255, 0, 0), 3)\n",
    "\n",
    "        cv2.imshow('Disc Game', img)\n",
    "\n",
    "    if cv2.waitKey(1) == ord('q'):\n",
    "        break\n"
   ]
  },
  {
   "cell_type": "code",
   "execution_count": null,
   "id": "b22b678d",
   "metadata": {},
   "outputs": [],
   "source": []
  }
 ],
 "metadata": {
  "kernelspec": {
   "display_name": "Python 3 (ipykernel)",
   "language": "python",
   "name": "python3"
  },
  "language_info": {
   "codemirror_mode": {
    "name": "ipython",
    "version": 3
   },
   "file_extension": ".py",
   "mimetype": "text/x-python",
   "name": "python",
   "nbconvert_exporter": "python",
   "pygments_lexer": "ipython3",
   "version": "3.9.13"
  }
 },
 "nbformat": 4,
 "nbformat_minor": 5
}
