{
 "cells": [
  {
   "cell_type": "code",
   "execution_count": 13,
   "id": "2fcef5e6",
   "metadata": {},
   "outputs": [],
   "source": [
    "my_data=[\n",
    "    [\"Green\",3,\"Mango\"],\n",
    "    [\"Yellow\",3,\"Mango\"],\n",
    "    [\"Red\",1,\"Grape\"],\n",
    "    [\"Red\",1,\"Grape\"],\n",
    "    [\"Yellow\",3,\"Lemon\"]\n",
    "]"
   ]
  },
  {
   "cell_type": "code",
   "execution_count": 12,
   "id": "81e5657f",
   "metadata": {},
   "outputs": [],
   "source": [
    " def is_numeric(value):\n",
    "    return isinstance(value, (int, float))"
   ]
  },
  {
   "cell_type": "code",
   "execution_count": 6,
   "id": "93f2f91d",
   "metadata": {},
   "outputs": [],
   "source": [
    "header= [\"color\",\"diameter\" , \"label\"]"
   ]
  },
  {
   "cell_type": "code",
   "execution_count": 31,
   "id": "07563328",
   "metadata": {},
   "outputs": [],
   "source": [
    "def question(column, question_value):\n",
    "    condition = \"==\"\n",
    "    if is_numeric(question_value):\n",
    "        condition = \">=\"\n",
    "    return \"Is %s %s %s \" % (\n",
    "    header[column], condition, str(question_value))"
   ]
  },
  {
   "cell_type": "code",
   "execution_count": 32,
   "id": "f61578a2",
   "metadata": {},
   "outputs": [
    {
     "data": {
      "text/plain": [
       "'Is diameter == Green '"
      ]
     },
     "execution_count": 32,
     "metadata": {},
     "output_type": "execute_result"
    }
   ],
   "source": [
    "question(1,\"Green\")"
   ]
  },
  {
   "cell_type": "code",
   "execution_count": 44,
   "id": "36dc60f8",
   "metadata": {},
   "outputs": [],
   "source": [
    "def match(row, question_value):\n",
    "    result= False\n",
    "    \n",
    "    indexs= list(range(len(row)-1))\n",
    "    for index in indexs:\n",
    "        feature_value= row[index]\n",
    "    if is_numeric(feature_value) == is_numeric(question_value):\n",
    "        if is_numeric(feature_value):\n",
    "            result= feature_value>= question_value\n",
    "        else:\n",
    "            result= feature_value== question_value\n",
    "    return result"
   ]
  },
  {
   "cell_type": "code",
   "execution_count": 45,
   "id": "76c99456",
   "metadata": {},
   "outputs": [
    {
     "data": {
      "text/plain": [
       "['Green', 3, 'Mango']"
      ]
     },
     "execution_count": 45,
     "metadata": {},
     "output_type": "execute_result"
    }
   ],
   "source": [
    "my_data[0]"
   ]
  },
  {
   "cell_type": "code",
   "execution_count": 49,
   "id": "d9a6d436",
   "metadata": {},
   "outputs": [
    {
     "data": {
      "text/plain": [
       "False"
      ]
     },
     "execution_count": 49,
     "metadata": {},
     "output_type": "execute_result"
    }
   ],
   "source": [
    "match(my_data[0],4)"
   ]
  },
  {
   "cell_type": "code",
   "execution_count": 52,
   "id": "177f6605",
   "metadata": {},
   "outputs": [],
   "source": [
    "def partition(dataset, question_value):\n",
    "    true_dataset, false_dataset = [],[]\n",
    "    for row in dataset:\n",
    "        \n",
    "        if match(row, question_value):\n",
    "            true_dataset.append(row)\n",
    "        else:\n",
    "            false_dataset.append(row)\n",
    "    return true_dataset, false_dataset"
   ]
  },
  {
   "cell_type": "code",
   "execution_count": 53,
   "id": "acdbf16c",
   "metadata": {},
   "outputs": [
    {
     "data": {
      "text/plain": [
       "([],\n",
       " [['Green', 3, 'Mango'],\n",
       "  ['Yellow', 3, 'Mango'],\n",
       "  ['Red', 1, 'Grape'],\n",
       "  ['Red', 1, 'Grape'],\n",
       "  ['Yellow', 3, 'Lemon']])"
      ]
     },
     "execution_count": 53,
     "metadata": {},
     "output_type": "execute_result"
    }
   ],
   "source": [
    "partition(my_data,\"Green\")"
   ]
  },
  {
   "cell_type": "code",
   "execution_count": 78,
   "id": "142b8a78",
   "metadata": {},
   "outputs": [],
   "source": [
    "def class_counts(dataset):\n",
    "    counts={}\n",
    "    for row in dataset:\n",
    "        label = row[-1] \n",
    "        if label not in counts :\n",
    "            counts[label] = 0\n",
    "        counts[label] += 1\n",
    "    return counts"
   ]
  },
  {
   "cell_type": "code",
   "execution_count": 81,
   "id": "baed4a2e",
   "metadata": {},
   "outputs": [
    {
     "data": {
      "text/plain": [
       "{'Mango': 2, 'Grape': 2, 'Lemon': 1}"
      ]
     },
     "execution_count": 81,
     "metadata": {},
     "output_type": "execute_result"
    }
   ],
   "source": [
    "class_counts(my_data)"
   ]
  },
  {
   "cell_type": "code",
   "execution_count": 82,
   "id": "60566dd5",
   "metadata": {},
   "outputs": [
    {
     "data": {
      "text/plain": [
       "['Yellow', 3, 'Lemon']"
      ]
     },
     "execution_count": 82,
     "metadata": {},
     "output_type": "execute_result"
    }
   ],
   "source": [
    "my_data[-1]"
   ]
  },
  {
   "cell_type": "code",
   "execution_count": 60,
   "id": "a807da53",
   "metadata": {},
   "outputs": [],
   "source": [
    "def gini(node):\n",
    "    counts= class_counts(node)\n",
    "    gini_impurity=1\n",
    "    for label in counts:\n",
    "        prob_of_label= counts[label]/len(node)\n",
    "        gini_impurity-=prob_of_label**2\n",
    "    return gini_impurity"
   ]
  },
  {
   "cell_type": "code",
   "execution_count": null,
   "id": "473f4972",
   "metadata": {},
   "outputs": [],
   "source": []
  },
  {
   "cell_type": "code",
   "execution_count": 61,
   "id": "3cca11cb",
   "metadata": {},
   "outputs": [
    {
     "data": {
      "text/plain": [
       "0.6399999999999999"
      ]
     },
     "execution_count": 61,
     "metadata": {},
     "output_type": "execute_result"
    }
   ],
   "source": [
    "gini(my_data)"
   ]
  },
  {
   "cell_type": "code",
   "execution_count": 84,
   "id": "08c3f6cd",
   "metadata": {},
   "outputs": [],
   "source": [
    "def info_gain(left,right,current_uncertainty):\n",
    "    p=float(len(left))/ (len(left) + len(right))\n",
    "    return current_uncertainty - p* gini(left)- (1-p)* gini(right)"
   ]
  },
  {
   "cell_type": "code",
   "execution_count": null,
   "id": "6b5ec86a",
   "metadata": {},
   "outputs": [],
   "source": []
  }
 ],
 "metadata": {
  "kernelspec": {
   "display_name": "Python 3 (ipykernel)",
   "language": "python",
   "name": "python3"
  },
  "language_info": {
   "codemirror_mode": {
    "name": "ipython",
    "version": 3
   },
   "file_extension": ".py",
   "mimetype": "text/x-python",
   "name": "python",
   "nbconvert_exporter": "python",
   "pygments_lexer": "ipython3",
   "version": "3.9.13"
  }
 },
 "nbformat": 4,
 "nbformat_minor": 5
}
